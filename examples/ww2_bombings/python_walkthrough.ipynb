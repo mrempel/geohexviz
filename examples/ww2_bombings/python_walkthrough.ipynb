{
 "cells": [
  {
   "cell_type": "markdown",
   "id": "65425420",
   "metadata": {},
   "source": [
    "# World War 2 Bombings\n",
    "This tutorial provides two methods of creating the visualization for example two, both of which pertain to usage within Python code.\n",
    "\n",
    "Note that this needs to be run three different times for each .csv file (for each year)."
   ]
  },
  {
   "cell_type": "markdown",
   "id": "a02d138d",
   "metadata": {},
   "source": [
    "### Method 2a: Using GeoHexSimple's functions to run a properties file"
   ]
  },
  {
   "cell_type": "code",
   "execution_count": null,
   "id": "260d5b85",
   "metadata": {},
   "outputs": [],
   "source": [
    "from geohexviz.utils.file import run_file\n",
    "\n",
    "# For each run, in the json_structure.json file, change the hexbin layer data path\n",
    "# start with it set to data-1943.csv, then data-1944.csv, and finally data-1945.csv.\n",
    "run_file(\"json_structure.json\") # JSON file works"
   ]
  },
  {
   "cell_type": "markdown",
   "id": "ac2760f8",
   "metadata": {},
   "source": [
    "Simple enough, right?\n",
    "\n",
    "### Method 2b: Using GeoHexViz's functions to make a plot from scratch"
   ]
  },
  {
   "cell_type": "code",
   "execution_count": null,
   "id": "89ae0475",
   "metadata": {},
   "outputs": [],
   "source": [
    "from geohexviz.builder import PlotBuilder"
   ]
  },
  {
   "cell_type": "markdown",
   "id": "1b38eea1",
   "metadata": {},
   "source": [
    "After our import, we need to instantiate a PlotBuilder object.\n",
    "This object contains the properties, and layers of the plot."
   ]
  },
  {
   "cell_type": "code",
   "execution_count": null,
   "id": "2a8a51b9",
   "metadata": {},
   "outputs": [],
   "source": [
    "myBuilder = PlotBuilder()"
   ]
  },
  {
   "cell_type": "markdown",
   "id": "448a1254",
   "metadata": {},
   "source": [
    "Now we must set the properties of the required layer (referred to as the hexbin layer).\n",
    "This layer contains the hexagonally binned data.\n",
    "Note how the ```marker.line.width``` property for this layer is being changed.\n",
    "This changed the thickness of the lines defining each hexagon on the plot.\n",
    "This will be important later."
   ]
  },
  {
   "cell_type": "code",
   "execution_count": null,
   "id": "bf41a1ef",
   "metadata": {},
   "outputs": [],
   "source": [
    "myBuilder.set_hexbin(\n",
    "    data=\"data-1943.csv\",           # remember to change this every run (data-1943.csv, data-1944.csv, data-1945.csv)\n",
    "    hexbin_info=dict(\n",
    "        binning_field=\"high_explosives_weight_tons\",\n",
    "        binning_fn=\"sum\"\n",
    "    ),\n",
    "    hex_resolution=4,\n",
    "    manager=dict(\n",
    "        marker=dict(\n",
    "            line=dict(width=0.45)\n",
    "        ),\n",
    "        colorscale=\"Viridis\",\n",
    "        colorbar=dict(\n",
    "            x=0.82\n",
    "        )\n",
    "    )\n",
    ")            "
   ]
  },
  {
   "cell_type": "markdown",
   "id": "10c88bb7",
   "metadata": {},
   "source": [
    "Now we add a region-type layer containing the Europe.\n",
    "\n",
    "Note: GeoHexViz and GeoHexSimple alike recognize the names of countries and continents, so no file is needed."
   ]
  },
  {
   "cell_type": "code",
   "execution_count": null,
   "id": "d96122fd",
   "metadata": {},
   "outputs": [],
   "source": [
    "myBuilder.add_region(\n",
    "    name=\"sample_Region_EUROPE\",\n",
    "    data=\"EUROPE\"\n",
    ")"
   ]
  },
  {
   "cell_type": "markdown",
   "id": "1b2e49c2",
   "metadata": {},
   "source": [
    "For this example, we want a continuous grid so we add a grid-type layer for Europe."
   ]
  },
  {
   "cell_type": "code",
   "execution_count": null,
   "id": "71e4921d",
   "metadata": {},
   "outputs": [],
   "source": [
    "myBuilder.add_grid(\n",
    "    name=\"sample_Grid_EUROPE\",\n",
    "    data=\"EUROPE\",\n",
    "    convex_simplify=True\n",
    ")"
   ]
  },
  {
   "cell_type": "markdown",
   "id": "9084f5a4",
   "metadata": {},
   "source": [
    "Since the region of Europe is so large and it is semi-close to the North Pole, GeoHexViz has issues generating the grid over it. \n",
    "When visualized, it seems that there are limited hexagons over Russia and some hexagons are in odd locations.\n",
    "To combat this, we add a grid layer over Russia, and later we clip the grid layers to the region layers."
   ]
  },
  {
   "cell_type": "code",
   "execution_count": null,
   "id": "b4fdaccc",
   "metadata": {},
   "outputs": [],
   "source": [
    "myBuilder.add_grid(\n",
    "    name=\"sample_Grid_RUSSIA\",\n",
    "    data=\"RUSSIA\",\n",
    "    convex_simplify=True\n",
    ")"
   ]
  },
  {
   "cell_type": "markdown",
   "id": "675a19bc",
   "metadata": {},
   "source": [
    "Next, since the ```marker.line.width``` property was changed for the hexbin layer earlier, we must change this property for both grid layers.\n",
    "To do this, we have to access the manager for grid layers."
   ]
  },
  {
   "cell_type": "code",
   "execution_count": null,
   "id": "c9429fd4",
   "metadata": {},
   "outputs": [],
   "source": [
    "myBuilder.update_grid_manager(\n",
    "    marker=dict(\n",
    "        line=dict(width=0.45)\n",
    "    )\n",
    ")"
   ]
  },
  {
   "cell_type": "markdown",
   "id": "eea74f03",
   "metadata": {},
   "source": [
    "For this example in particular, it becomes apparent that when visualizing, the ```adjust_focus``` function does not provide an adequate focus for the plot (not easily at least). \n",
    "To combat this, we need to access the properties of the plot itself.\n",
    "We set the figure's ```lataxis.range```, ```lonaxis.range```, and ```projection.rotation``` properties."
   ]
  },
  {
   "cell_type": "code",
   "execution_count": null,
   "id": "6a63b0ed",
   "metadata": {},
   "outputs": [],
   "source": [
    "myBuilder.update_figure(\n",
    "    geos=dict(\n",
    "        lataxis=dict(\n",
    "            range=[35, 58]\n",
    "        ),\n",
    "        lonaxis=dict(\n",
    "            range=[0, 43]\n",
    "        ),\n",
    "        projection=dict(\n",
    "            rotation=dict(\n",
    "                lat=46.63321662159487,\n",
    "                lon=11.21560455920799\n",
    "            )\n",
    "        )\n",
    "    )\n",
    ")"
   ]
  },
  {
   "cell_type": "markdown",
   "id": "8d8ded58",
   "metadata": {},
   "source": [
    "Now, we invoke functions on the stored layers. For this example, since the focus is on Europe, we want to clip the hexbin layer, and grid layers to Europe. We also want the plot to use a logarithmic scale."
   ]
  },
  {
   "cell_type": "code",
   "execution_count": null,
   "id": "5207fe1d",
   "metadata": {},
   "outputs": [],
   "source": [
    "myBuilder.clip_layers(\n",
    "    clip=\"hexbin+grids\",\n",
    "    to=\"regions\"\n",
    ")\n",
    "myBuilder.logify_scale(\n",
    "    exp_type=\"r\"\n",
    ")\n",
    "# * Unlike JSON input mechanism, in a module adjust\\_focus is not\n",
    "# * invoked by default, the user has to invoke it"
   ]
  },
  {
   "cell_type": "markdown",
   "id": "adffee24",
   "metadata": {},
   "source": [
    "Next we finalize/output the visualization."
   ]
  },
  {
   "cell_type": "code",
   "execution_count": null,
   "id": "7e153d6b",
   "metadata": {
    "pycharm": {
     "is_executing": true
    }
   },
   "outputs": [],
   "source": [
    "myBuilder.finalize()\n",
    "\n",
    " # remember to change this every run:\n",
    " # output_visualization-1943.pdf, output_visualization-1944.pdf, output_visualization-1945.pdf\n",
    "\n",
    "myBuilder.output(\n",
    "    filepath=\"output_visualization-1943.pdf\",\n",
    "    crop_output=True\n",
    ")"
   ]
  }
 ],
 "metadata": {
  "kernelspec": {
   "display_name": "Python 3 (ipykernel)",
   "language": "python",
   "name": "python3"
  },
  "language_info": {
   "codemirror_mode": {
    "name": "ipython",
    "version": 3
   },
   "file_extension": ".py",
   "mimetype": "text/x-python",
   "name": "python",
   "nbconvert_exporter": "python",
   "pygments_lexer": "ipython3",
   "version": "3.8.5"
  }
 },
 "nbformat": 4,
 "nbformat_minor": 5
}
