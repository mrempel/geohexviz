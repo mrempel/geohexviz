{
 "cells": [
  {
   "cell_type": "markdown",
   "id": "65425420",
   "metadata": {},
   "source": [
    "# Search and Rescue Incidents\n",
    "This tutorial provides two methods of creating the visualization for example one, both of which pertain to usage within Python code."
   ]
  },
  {
   "cell_type": "markdown",
   "id": "a02d138d",
   "metadata": {},
   "source": [
    "### Method 2a: Using GeoHexSimple's functions to run a properties file"
   ]
  },
  {
   "cell_type": "code",
   "execution_count": null,
   "id": "df676e99",
   "metadata": {},
   "outputs": [],
   "source": [
    "from geohexsimple import run_file\n",
    "\n",
    "run_file(\"json_structure.json\") # JSON file works"
   ]
  },
  {
   "cell_type": "markdown",
   "id": "ac2760f8",
   "metadata": {},
   "source": [
    "Simple enough, right?\n",
    "\n",
    "### Method 2b: Using GeoHexViz's functions to make a plot from scratch"
   ]
  },
  {
   "cell_type": "code",
   "execution_count": null,
   "id": "5bcdc05d",
   "metadata": {},
   "outputs": [],
   "source": [
    "from geohexviz.builder import PlotBuilder"
   ]
  },
  {
   "cell_type": "markdown",
   "id": "1b38eea1",
   "metadata": {},
   "source": [
    "After our import, we need to instantiate a PlotBuilder object.\n",
    "This object contains the properties, and layers of the plot."
   ]
  },
  {
   "cell_type": "code",
   "execution_count": null,
   "id": "ebd51aef",
   "metadata": {},
   "outputs": [],
   "source": [
    "myBuilder = PlotBuilder()"
   ]
  },
  {
   "cell_type": "markdown",
   "id": "448a1254",
   "metadata": {},
   "source": [
    "Now we must set the properties of the required layer (referred to as the hexbin layer).\n",
    "This layer contains the hexagonally binned data."
   ]
  },
  {
   "cell_type": "code",
   "execution_count": null,
   "id": "3b1afa79",
   "metadata": {},
   "outputs": [],
   "source": [
    "myBuilder.set_hexbin(\n",
    "    data=\"data.csv\",\n",
    "    hex_resolution=4,\n",
    "    manager=dict(\n",
    "        colorscale=\"Viridis\",\n",
    "        colorbar=dict(\n",
    "            x=0.8325\n",
    "        )\n",
    "    )\n",
    ")                 "
   ]
  },
  {
   "cell_type": "markdown",
   "id": "10c88bb7",
   "metadata": {},
   "source": [
    "Now we add a region-type layer containing the Canadian landmass.\n",
    "\n",
    "Note: GeoHexViz and GeoHexSimple alike recognize the names of countries and continents, so no file is needed."
   ]
  },
  {
   "cell_type": "code",
   "execution_count": null,
   "id": "ce263a90",
   "metadata": {},
   "outputs": [],
   "source": [
    "myBuilder.add_region(\n",
    "    name=\"sample_Region_CANADA\",\n",
    "    data=\"CANADA\"\n",
    ")"
   ]
  },
  {
   "cell_type": "markdown",
   "id": "10692d66",
   "metadata": {},
   "source": [
    "Now we add a grid-type layer, so that there are no gaps in between the hexagons over the Canadian landmass."
   ]
  },
  {
   "cell_type": "code",
   "execution_count": null,
   "id": "81fb6262",
   "metadata": {},
   "outputs": [],
   "source": [
    "myBuilder.add_grid(\n",
    "    name=\"sample_Grid_CANADA\",\n",
    "    data=\"CANADA\"\n",
    ")"
   ]
  },
  {
   "cell_type": "markdown",
   "id": "8d8ded58",
   "metadata": {},
   "source": [
    "Now, we invoke functions on the stored layers. We want to clip the hexbin layer and any grid layers to the region layer containing the Canadian landmass, the plot to be focused on the Canadian landmass, and the plot to use a logarithmic scale."
   ]
  },
  {
   "cell_type": "code",
   "execution_count": null,
   "id": "62042e95",
   "metadata": {},
   "outputs": [],
   "source": [
    "myBuilder.clip_layers(\n",
    "    clip=\"hexbin+grids\",\n",
    "    to=\"regions\"\n",
    ")\n",
    "myBuilder.adjust_focus(\n",
    "    on=\"regions\",\n",
    "    buffer_lat=[0, 3]\n",
    ")\n",
    "myBuilder.logify_scale(\n",
    "    exp_type=\"r\"\n",
    ")"
   ]
  },
  {
   "cell_type": "markdown",
   "id": "adffee24",
   "metadata": {},
   "source": [
    "Next we finalize/output the visualization."
   ]
  },
  {
   "cell_type": "code",
   "execution_count": null,
   "id": "7e153d6b",
   "metadata": {},
   "outputs": [],
   "source": [
    "myBuilder.finalize()\n",
    "myBuilder.output(\n",
    "    filepath=\"output_visualization.pdf\",\n",
    "    crop_output=True\n",
    ")"
   ]
  }
 ],
 "metadata": {
  "kernelspec": {
   "display_name": "Python 3 (ipykernel)",
   "language": "python",
   "name": "python3"
  },
  "language_info": {
   "codemirror_mode": {
    "name": "ipython",
    "version": 3
   },
   "file_extension": ".py",
   "mimetype": "text/x-python",
   "name": "python",
   "nbconvert_exporter": "python",
   "pygments_lexer": "ipython3",
   "version": "3.8.5"
  }
 },
 "nbformat": 4,
 "nbformat_minor": 5
}
