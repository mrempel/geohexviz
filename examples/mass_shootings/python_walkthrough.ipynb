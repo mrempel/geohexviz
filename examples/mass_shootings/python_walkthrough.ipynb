{
 "cells": [
  {
   "cell_type": "markdown",
   "id": "65425420",
   "metadata": {},
   "source": [
    "# Mass Shootings\n",
    "This tutorial provides two methods of creating the visualization for example two, both of which pertain to usage within Python code."
   ]
  },
  {
   "cell_type": "markdown",
   "id": "a02d138d",
   "metadata": {},
   "source": [
    "### Method 2a: Using GeoHexSimple's functions to run a properties file"
   ]
  },
  {
   "cell_type": "code",
   "execution_count": null,
   "id": "0ed52a1a",
   "metadata": {},
   "outputs": [],
   "source": [
    "from geohexviz.utils.file import run_file\n",
    "\n",
    "run_file(\"json_structure.json\") # JSON file works"
   ]
  },
  {
   "cell_type": "markdown",
   "id": "ac2760f8",
   "metadata": {},
   "source": [
    "Simple enough, right?\n",
    "\n",
    "### Method 2b: Using GeoHexViz's functions to make a plot from scratch"
   ]
  },
  {
   "cell_type": "code",
   "execution_count": null,
   "id": "6e23e5ff",
   "metadata": {},
   "outputs": [],
   "source": [
    "from geohexviz.builder import PlotBuilder"
   ]
  },
  {
   "cell_type": "markdown",
   "id": "1b38eea1",
   "metadata": {},
   "source": [
    "After our import, we need to instantiate a PlotBuilder object.\n",
    "This object contains the properties, and layers of the plot."
   ]
  },
  {
   "cell_type": "code",
   "execution_count": null,
   "id": "5bab9fb9",
   "metadata": {},
   "outputs": [],
   "source": [
    "myBuilder = PlotBuilder()"
   ]
  },
  {
   "cell_type": "markdown",
   "id": "448a1254",
   "metadata": {},
   "source": [
    "Now we must set the properties of the required layer (referred to as the hexbin layer).\n",
    "This layer contains the hexagonally binned data."
   ]
  },
  {
   "cell_type": "code",
   "execution_count": null,
   "id": "ba2bebfa",
   "metadata": {},
   "outputs": [],
   "source": [
    "myBuilder.set_hexbin(\n",
    "    data=\"data.csv\",\n",
    "    hex_resolution=3,\n",
    "    hexbin_info=dict(\n",
    "        binning_field=\"killed_injured\",\n",
    "        binning_fn=\"sum\"\n",
    "    ),\n",
    "    manager=dict(\n",
    "        colorbar=dict(\n",
    "            x=0.8365\n",
    "        )\n",
    "    )\n",
    ")              "
   ]
  },
  {
   "cell_type": "markdown",
   "id": "10c88bb7",
   "metadata": {},
   "source": [
    "Now we add a region-type layer containing the USA.\n",
    "\n",
    "Note: GeoHexViz and GeoHexSimple alike recognize the names of countries and continents, so no file is needed."
   ]
  },
  {
   "cell_type": "code",
   "execution_count": null,
   "id": "a807922b",
   "metadata": {},
   "outputs": [],
   "source": [
    "myBuilder.add_region(\n",
    "    name=\"sample_Region_USA\",\n",
    "    data=\"UNITED STATES OF AMERICA\"\n",
    ")"
   ]
  },
  {
   "cell_type": "markdown",
   "id": "1b2e49c2",
   "metadata": {},
   "source": [
    "For this example we wish to visualize the locations of the top five epicenters of these mass shootings.\n",
    "A researcher has already taken the time to determine the cities with the most people killed or injured, and it is stored in ```data-epicenters.csv```.\n",
    "\n",
    "To visualize these points, we add a point-type layer."
   ]
  },
  {
   "cell_type": "code",
   "execution_count": null,
   "id": "f7bdb5ab",
   "metadata": {},
   "outputs": [],
   "source": [
    "myBuilder.add_point(\n",
    "    name=\"sample_Point_EPICENTERS\",\n",
    "    data=\"<path to data-epicenters.csv>\",\n",
    "    manager=dict(\n",
    "        textposition=[\n",
    "            \"top center\",\n",
    "            \"top center\",\n",
    "            \"middle right\",\n",
    "            \"top center\",\n",
    "            \"top left\",\n",
    "            \"bottom right\",\n",
    "            \"top center\",\n",
    "            \"top center\",\n",
    "            \"top center\",\n",
    "            \"top center\"\n",
    "        ],\n",
    "        marker=dict(\n",
    "            symbol=\"square-dot\",\n",
    "            size=4,\n",
    "            line=dict(\n",
    "                width=0.5\n",
    "            )\n",
    "        )\n",
    "    )\n",
    ")"
   ]
  },
  {
   "cell_type": "markdown",
   "id": "8d8ded58",
   "metadata": {},
   "source": [
    "Now, we invoke functions on the stored layers. For this example, we want to remove and replot (as empty hexagons) hexagons with no people killed or injured, shift the focus of the plot to the USA, and make the plot use a logarithmic scale."
   ]
  },
  {
   "cell_type": "code",
   "execution_count": null,
   "id": "7735528e",
   "metadata": {},
   "outputs": [],
   "source": [
    "myBuilder.remove_empties()\n",
    "myBuilder.adjust_focus(\n",
    "    on=\"hexbin+grids\",\n",
    "    buffer_lat=[0, 15],\n",
    "    rot_buffer_lon=-8\n",
    ")\n",
    "myBuilder.logify_scale(\n",
    "    exp_type=\"r\"\n",
    ")"
   ]
  },
  {
   "cell_type": "markdown",
   "id": "adffee24",
   "metadata": {},
   "source": [
    "Next we finalize/output the visualization."
   ]
  },
  {
   "cell_type": "code",
   "execution_count": null,
   "id": "7e153d6b",
   "metadata": {},
   "outputs": [],
   "source": [
    "myBuilder.finalize()\n",
    "myBuilder.output(\n",
    "    filepath=\"output_visualization.pdf\",\n",
    "    crop_output=True\n",
    ")"
   ]
  }
 ],
 "metadata": {
  "kernelspec": {
   "display_name": "Python 3 (ipykernel)",
   "language": "python",
   "name": "python3"
  },
  "language_info": {
   "codemirror_mode": {
    "name": "ipython",
    "version": 3
   },
   "file_extension": ".py",
   "mimetype": "text/x-python",
   "name": "python",
   "nbconvert_exporter": "python",
   "pygments_lexer": "ipython3",
   "version": "3.8.5"
  }
 },
 "nbformat": 4,
 "nbformat_minor": 5
}
